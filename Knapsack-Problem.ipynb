{
 "cells": [
  {
   "cell_type": "code",
   "execution_count": 1,
   "id": "stopped-hammer",
   "metadata": {},
   "outputs": [],
   "source": [
    "import numpy as np"
   ]
  },
  {
   "cell_type": "code",
   "execution_count": 2,
   "id": "fifty-granny",
   "metadata": {},
   "outputs": [],
   "source": [
    "def knapsack(weight, value, capacity):\n",
    "    if len(weight) != len(value):\n",
    "        raise ValueError('weight and value lists must have same length!')\n",
    "    if capacity < 0:\n",
    "        return -np.inf\n",
    "    if capacity == 0:\n",
    "        return 0\n",
    "    if len(weight) == 0:\n",
    "        return 0\n",
    "     \n",
    "    return max(knapsack(weight[:-1], value[:-1], capacity), \n",
    "               knapsack(weight[:-1], value[:-1], capacity-weight[-1]) + value[-1])"
   ]
  },
  {
   "cell_type": "code",
   "execution_count": 3,
   "id": "alpine-chick",
   "metadata": {},
   "outputs": [],
   "source": [
    "w = [1, 2, 3, 8, 7, 4]\n",
    "v = [20, 5, 10, 40, 15, 25]\n",
    "cap = 10"
   ]
  },
  {
   "cell_type": "code",
   "execution_count": 4,
   "id": "continuous-mineral",
   "metadata": {},
   "outputs": [
    {
     "data": {
      "text/plain": [
       "60"
      ]
     },
     "execution_count": 4,
     "metadata": {},
     "output_type": "execute_result"
    }
   ],
   "source": [
    "knapsack(w, v, cap)"
   ]
  },
  {
   "cell_type": "markdown",
   "id": "assisted-device",
   "metadata": {},
   "source": [
    "### Ok, but what items do I want?  \n",
    "\n",
    "While the previous method works to give us the maximum possible value of the items we can select, it doesn't provide us with a way to determine _what collection of items_ will give us that value.  \n",
    "\n",
    "It doesn't seem so straightforward to modify that recursive method to give the collection of items that gives the maximum value.  \n",
    "\n",
    "By writing a new method to determine the maximum value in a different fashion (by computing a table of values), we can trace back through the table to determine a collection of items that we want to take.  \n",
    "\n",
    "**Note:**  This isn't the most succinct code that I could have written, but I wanted to illustrate the method for filling in the table and finding the collection of items that give that maximum value.  Shorter code would consist of more list comprehensions, etc.  "
   ]
  },
  {
   "cell_type": "code",
   "execution_count": 5,
   "id": "automatic-thunder",
   "metadata": {},
   "outputs": [],
   "source": [
    "from collections import namedtuple\n",
    "\n",
    "item = namedtuple('item', ['w','v'])"
   ]
  },
  {
   "cell_type": "code",
   "execution_count": 6,
   "id": "stable-zealand",
   "metadata": {},
   "outputs": [],
   "source": [
    "def knapsack(weight, value, capacity, show_table=False, show_items=True):\n",
    "    if len(weight) != len(value):\n",
    "        raise ValueError('weight and value lists must have same length!')\n",
    "    if capacity < 0:\n",
    "        return -np.inf\n",
    "    if capacity == 0:\n",
    "        return 0\n",
    "    if len(weight) == 0:\n",
    "        return 0\n",
    "    \n",
    "    #  Each column is a maximum capacity value we can carry.\n",
    "    #  Rows correspond to adding an additional item into consideration.\n",
    "    #  Fill in the first row\n",
    "    row = [value[0] if weight[0] <= k else 0 \n",
    "           for k in range(capacity+1)]\n",
    "    M = [row]\n",
    "    \n",
    "    #  Now fill in the rest of the rows\n",
    "    for i, w, v in zip(range(1,len(weight[1:])+1), weight[1:], value[1:]):\n",
    "        row = []\n",
    "        for k in range(capacity+1):\n",
    "            row.append(max(M[i-1][k], \n",
    "                      (M[i-1][k-w] + v if k-w >= 0 else 0)))\n",
    "        M.append(row)\n",
    "    \n",
    "    current_capacity = cap\n",
    "    items = []\n",
    "    for r, w, v in zip(range(len(weight)-1, -1, -1), weight[::-1], value[::-1]):\n",
    "        if (current_capacity-w >= 0) and \\\n",
    "            M[r][current_capacity] == (M[r-1][current_capacity-w] + v):\n",
    "            items.append(item(w,v))\n",
    "            current_capacity -= w\n",
    "    \n",
    "    if show_table:\n",
    "        print(M)\n",
    "\n",
    "    if show_items:\n",
    "        return M[-1][-1],tuple(items)\n",
    "    else:\n",
    "        return M[-1][-1]"
   ]
  },
  {
   "cell_type": "code",
   "execution_count": 7,
   "id": "norwegian-poison",
   "metadata": {},
   "outputs": [
    {
     "data": {
      "text/plain": [
       "(60, (item(w=4, v=25), item(w=3, v=10), item(w=2, v=5), item(w=1, v=20)))"
      ]
     },
     "execution_count": 7,
     "metadata": {},
     "output_type": "execute_result"
    }
   ],
   "source": [
    "knapsack(w, v, cap)"
   ]
  },
  {
   "cell_type": "code",
   "execution_count": null,
   "id": "hindu-render",
   "metadata": {},
   "outputs": [],
   "source": []
  }
 ],
 "metadata": {
  "kernelspec": {
   "display_name": "Python 3",
   "language": "python",
   "name": "python3"
  },
  "language_info": {
   "codemirror_mode": {
    "name": "ipython",
    "version": 3
   },
   "file_extension": ".py",
   "mimetype": "text/x-python",
   "name": "python",
   "nbconvert_exporter": "python",
   "pygments_lexer": "ipython3",
   "version": "3.8.8"
  }
 },
 "nbformat": 4,
 "nbformat_minor": 5
}
