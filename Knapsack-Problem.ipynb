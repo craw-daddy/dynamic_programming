{
 "cells": [
  {
   "cell_type": "markdown",
   "id": "intelligent-frequency",
   "metadata": {},
   "source": [
    "#  The 0/1 Knapsack Problem\n",
    "\n",
    "This is an optimization problem.  \n",
    "\n",
    "We are given a collection, $T$, of $n$ items.  Item $i$ has weight $w_i$ and value $v_i$.  It's assumed that the weights and values are integers, and that these are all positive.  We have a _knapsack_ with a capacity $C$, i.e. it can hold a total weight $C$.  \n",
    "\n",
    "Our objective is to take the collection of items that together gives the maximum total value, without the total weight of the items exceeding the capacity $C$.  In mathematical terms, we want to find a subset $S \\subseteq T$ that maximizes the total value.  In other words, we want to find $S$ such that\n",
    "$$\\max_{S \\subseteq T} \\sum_{i \\in S} v_i \\ \\mathrm{subject\\ to} \\ \\sum_{i \\in S} w_i \\leq C.$$\n",
    "\n",
    "The \"0/1\" condition means that we are not allowed to take a fractional portion of any item, we have to either take an item or leave it behind.  (The Fractional Knapsack Problem allows us to take fractional portions of items.  That version has a greedy solution, which won't be discussed here.)  This \"0/1\" condition is what makes this problem \"hard\".  \n",
    "\n",
    "(Without going into any details of what this means, the 0/1 Knapsack Problem is an example of an [NP-complete problem](https://en.wikipedia.org/wiki/NP-completeness).  See also [here](https://www.mathsisfun.com/sets/np-complete.html), [here](https://www.geeksforgeeks.org/np-completeness-set-1/), or [here](https://www.ics.uci.edu/~eppstein/161/960312.html) for some introductions to this topic.)"
   ]
  },
  {
   "cell_type": "markdown",
   "id": "reported-nursing",
   "metadata": {},
   "source": [
    "###  A recursive solution\n",
    "\n",
    "In principle, an \"easy\" solution is that for each item we can consider two possibilities.  Either the optimal solution contains that item or it doesn't.  We consider both possibilities in a recursive manner and return the best solution found in this manner.  "
   ]
  },
  {
   "cell_type": "code",
   "execution_count": null,
   "id": "sorted-decimal",
   "metadata": {},
   "outputs": [],
   "source": [
    "import numpy as np"
   ]
  },
  {
   "cell_type": "code",
   "execution_count": null,
   "id": "minor-education",
   "metadata": {},
   "outputs": [],
   "source": [
    "def knapsack(weight, value, capacity):\n",
    "    if len(weight) != len(value):\n",
    "        raise ValueError('weight and value lists must have same length!')\n",
    "    if capacity < 0:\n",
    "        return -np.inf\n",
    "    if capacity == 0:\n",
    "        return 0\n",
    "    if len(weight) == 0:\n",
    "        return 0\n",
    "    \n",
    "    #  Recurse on the two possible subproblems and return the best result.\n",
    "    return max(knapsack(weight[:-1], value[:-1], capacity), \n",
    "               knapsack(weight[:-1], value[:-1], capacity-weight[-1]) + value[-1])"
   ]
  },
  {
   "cell_type": "markdown",
   "id": "moral-objective",
   "metadata": {},
   "source": [
    "### A small example"
   ]
  },
  {
   "cell_type": "code",
   "execution_count": null,
   "id": "binary-locator",
   "metadata": {
    "tags": []
   },
   "outputs": [],
   "source": [
    "w = [1, 2, 3, 8, 7, 4]\n",
    "v = [20, 5, 10, 40, 15, 25]\n",
    "cap = 10\n",
    "\n",
    "knapsack(w, v, cap)"
   ]
  },
  {
   "cell_type": "code",
   "execution_count": null,
   "id": "reverse-oregon",
   "metadata": {},
   "outputs": [],
   "source": [
    "cap = 11\n",
    "\n",
    "knapsack(w, v, cap)"
   ]
  },
  {
   "cell_type": "markdown",
   "id": "false-ocean",
   "metadata": {},
   "source": [
    "### Ok, but what items do I want?  \n",
    "\n",
    "While the previous method works to give us the maximum possible value of the items we can select, it doesn't provide us with an easy way to determine _what collection of items_ will give us that value.  \n",
    "\n",
    "It doesn't seem so straightforward to modify that recursive method to give the collection of items that gives the maximum value.  \n",
    "\n",
    "By writing a new method to determine the maximum value in a different fashion (by computing a table of values), we can trace back through the table to determine a collection of items that we want to take.  \n",
    "\n",
    "**Note:**  This isn't the most succinct code that I could have written, but I wanted to illustrate the method for filling in the table and finding the collection of items that give that maximum value.  Shorter code would consist of more list comprehensions, etc.  "
   ]
  },
  {
   "cell_type": "code",
   "execution_count": null,
   "id": "martial-lesbian",
   "metadata": {},
   "outputs": [],
   "source": [
    "from collections import namedtuple\n",
    "\n",
    "item = namedtuple('item', ['w','v'])"
   ]
  },
  {
   "cell_type": "code",
   "execution_count": null,
   "id": "martial-animation",
   "metadata": {},
   "outputs": [],
   "source": [
    "def knapsack(weight, value, capacity, show_table=False, show_items=True):\n",
    "    if len(weight) != len(value):\n",
    "        raise ValueError('weight and value lists must have same length!')\n",
    "    if capacity < 0:\n",
    "        return -np.inf\n",
    "    if capacity == 0:\n",
    "        return 0\n",
    "    if len(weight) == 0:\n",
    "        return 0\n",
    "    \n",
    "    #  Each column is a maximum capacity value we can carry.\n",
    "    #  Rows correspond to adding an additional item into consideration.\n",
    "    #  Fill in the first row\n",
    "    row = [value[0] if weight[0] <= k else 0 \n",
    "           for k in range(capacity+1)]\n",
    "    M = [row]\n",
    "    \n",
    "    #  Now fill in the rest of the rows\n",
    "    for i, w, v in zip(range(1,len(weight[1:])+1), weight[1:], value[1:]):\n",
    "        row = []\n",
    "        for k in range(capacity+1):\n",
    "            row.append(max(M[i-1][k], \n",
    "                      (M[i-1][k-w] + v if k-w >= 0 else 0)))\n",
    "        M.append(row)\n",
    "    \n",
    "    current_capacity = cap\n",
    "    items = []\n",
    "    for r, w, v in zip(range(len(weight)-1, -1, -1), weight[::-1], value[::-1]):\n",
    "        if (current_capacity-w >= 0) and \\\n",
    "            M[r][current_capacity] == (M[r-1][current_capacity-w] + v):\n",
    "            items.append(item(w,v))\n",
    "            current_capacity -= w\n",
    "    \n",
    "    if show_table:\n",
    "        print(M)\n",
    "\n",
    "    if show_items:\n",
    "        return M[-1][-1],tuple(items)\n",
    "    else:\n",
    "        return M[-1][-1]"
   ]
  },
  {
   "cell_type": "code",
   "execution_count": null,
   "id": "active-adelaide",
   "metadata": {},
   "outputs": [],
   "source": [
    "cap = 10\n",
    "\n",
    "knapsack(w, v, cap)"
   ]
  },
  {
   "cell_type": "code",
   "execution_count": null,
   "id": "computational-apollo",
   "metadata": {},
   "outputs": [],
   "source": [
    "cap = 11\n",
    "\n",
    "knapsack(w, v, cap)"
   ]
  },
  {
   "cell_type": "markdown",
   "id": "turned-assist",
   "metadata": {},
   "source": [
    "# Exercise:\n",
    "\n",
    "What is the running time of each of the previous methods, expressed as a function of $n$, the number of items, and/or $C$, the maximum capacity of the knapsack? "
   ]
  }
 ],
 "metadata": {
  "kernelspec": {
   "display_name": "Python 3",
   "language": "python",
   "name": "python3"
  },
  "language_info": {
   "codemirror_mode": {
    "name": "ipython",
    "version": 3
   },
   "file_extension": ".py",
   "mimetype": "text/x-python",
   "name": "python",
   "nbconvert_exporter": "python",
   "pygments_lexer": "ipython3",
   "version": "3.8.8"
  }
 },
 "nbformat": 4,
 "nbformat_minor": 5
}
